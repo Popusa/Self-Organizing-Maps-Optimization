{
 "cells": [
  {
   "cell_type": "code",
   "execution_count": 27,
   "id": "a56ffb12",
   "metadata": {},
   "outputs": [],
   "source": [
    "#!pip install susi"
   ]
  },
  {
   "cell_type": "code",
   "execution_count": 86,
   "id": "92872522",
   "metadata": {},
   "outputs": [
    {
     "name": "stdout",
     "output_type": "stream",
     "text": [
      "Collecting minisom\n",
      "  Downloading MiniSom-2.3.0.tar.gz (8.8 kB)\n",
      "Building wheels for collected packages: minisom\n",
      "  Building wheel for minisom (setup.py): started\n",
      "  Building wheel for minisom (setup.py): finished with status 'done'\n",
      "  Created wheel for minisom: filename=MiniSom-2.3.0-py3-none-any.whl size=9018 sha256=ef27dd3df5e8498fd8f0e5a0ee83d49f486090ca35e1ee07e1adb1f4634893bb\n",
      "  Stored in directory: c:\\users\\user\\appdata\\local\\pip\\cache\\wheels\\7e\\47\\6d\\97ad48be13d8b0fc231b7df226a3d6645820c32559822a826c\n",
      "Successfully built minisom\n",
      "Installing collected packages: minisom\n",
      "Successfully installed minisom-2.3.0\n"
     ]
    }
   ],
   "source": [
    "#!pip install minisom"
   ]
  },
  {
   "cell_type": "code",
   "execution_count": 152,
   "id": "7845175e",
   "metadata": {},
   "outputs": [],
   "source": [
    "import pandas as pd\n",
    "import numpy as np\n",
    "import seaborn as sns\n",
    "import matplotlib.pyplot as plt\n",
    "import pickle\n",
    "import susi\n",
    "from minisom import MiniSom \n",
    "from sklearn.model_selection import train_test_split\n",
    "from sklearn.preprocessing import LabelEncoder\n",
    "from sklearn.preprocessing import StandardScaler\n",
    "from sklearn import metrics"
   ]
  },
  {
   "cell_type": "code",
   "execution_count": 259,
   "id": "59be9647",
   "metadata": {},
   "outputs": [],
   "source": [
    "df = pd.read_csv(\"voice.csv\")"
   ]
  },
  {
   "cell_type": "code",
   "execution_count": 260,
   "id": "037eb535",
   "metadata": {},
   "outputs": [
    {
     "data": {
      "text/html": [
       "<div>\n",
       "<style scoped>\n",
       "    .dataframe tbody tr th:only-of-type {\n",
       "        vertical-align: middle;\n",
       "    }\n",
       "\n",
       "    .dataframe tbody tr th {\n",
       "        vertical-align: top;\n",
       "    }\n",
       "\n",
       "    .dataframe thead th {\n",
       "        text-align: right;\n",
       "    }\n",
       "</style>\n",
       "<table border=\"1\" class=\"dataframe\">\n",
       "  <thead>\n",
       "    <tr style=\"text-align: right;\">\n",
       "      <th></th>\n",
       "      <th>meanfreq</th>\n",
       "      <th>sd</th>\n",
       "      <th>median</th>\n",
       "      <th>Q25</th>\n",
       "      <th>Q75</th>\n",
       "      <th>IQR</th>\n",
       "      <th>skew</th>\n",
       "      <th>kurt</th>\n",
       "      <th>sp.ent</th>\n",
       "      <th>sfm</th>\n",
       "      <th>...</th>\n",
       "      <th>centroid</th>\n",
       "      <th>meanfun</th>\n",
       "      <th>minfun</th>\n",
       "      <th>maxfun</th>\n",
       "      <th>meandom</th>\n",
       "      <th>mindom</th>\n",
       "      <th>maxdom</th>\n",
       "      <th>dfrange</th>\n",
       "      <th>modindx</th>\n",
       "      <th>label</th>\n",
       "    </tr>\n",
       "  </thead>\n",
       "  <tbody>\n",
       "    <tr>\n",
       "      <th>0</th>\n",
       "      <td>0.059781</td>\n",
       "      <td>0.064241</td>\n",
       "      <td>0.032027</td>\n",
       "      <td>0.015071</td>\n",
       "      <td>0.090193</td>\n",
       "      <td>0.075122</td>\n",
       "      <td>12.863462</td>\n",
       "      <td>274.402905</td>\n",
       "      <td>0.893369</td>\n",
       "      <td>0.491918</td>\n",
       "      <td>...</td>\n",
       "      <td>0.059781</td>\n",
       "      <td>0.084279</td>\n",
       "      <td>0.015702</td>\n",
       "      <td>0.275862</td>\n",
       "      <td>0.007812</td>\n",
       "      <td>0.007812</td>\n",
       "      <td>0.007812</td>\n",
       "      <td>0.000000</td>\n",
       "      <td>0.000000</td>\n",
       "      <td>male</td>\n",
       "    </tr>\n",
       "    <tr>\n",
       "      <th>1</th>\n",
       "      <td>0.066009</td>\n",
       "      <td>0.067310</td>\n",
       "      <td>0.040229</td>\n",
       "      <td>0.019414</td>\n",
       "      <td>0.092666</td>\n",
       "      <td>0.073252</td>\n",
       "      <td>22.423285</td>\n",
       "      <td>634.613855</td>\n",
       "      <td>0.892193</td>\n",
       "      <td>0.513724</td>\n",
       "      <td>...</td>\n",
       "      <td>0.066009</td>\n",
       "      <td>0.107937</td>\n",
       "      <td>0.015826</td>\n",
       "      <td>0.250000</td>\n",
       "      <td>0.009014</td>\n",
       "      <td>0.007812</td>\n",
       "      <td>0.054688</td>\n",
       "      <td>0.046875</td>\n",
       "      <td>0.052632</td>\n",
       "      <td>male</td>\n",
       "    </tr>\n",
       "    <tr>\n",
       "      <th>2</th>\n",
       "      <td>0.077316</td>\n",
       "      <td>0.083829</td>\n",
       "      <td>0.036718</td>\n",
       "      <td>0.008701</td>\n",
       "      <td>0.131908</td>\n",
       "      <td>0.123207</td>\n",
       "      <td>30.757155</td>\n",
       "      <td>1024.927705</td>\n",
       "      <td>0.846389</td>\n",
       "      <td>0.478905</td>\n",
       "      <td>...</td>\n",
       "      <td>0.077316</td>\n",
       "      <td>0.098706</td>\n",
       "      <td>0.015656</td>\n",
       "      <td>0.271186</td>\n",
       "      <td>0.007990</td>\n",
       "      <td>0.007812</td>\n",
       "      <td>0.015625</td>\n",
       "      <td>0.007812</td>\n",
       "      <td>0.046512</td>\n",
       "      <td>male</td>\n",
       "    </tr>\n",
       "    <tr>\n",
       "      <th>3</th>\n",
       "      <td>0.151228</td>\n",
       "      <td>0.072111</td>\n",
       "      <td>0.158011</td>\n",
       "      <td>0.096582</td>\n",
       "      <td>0.207955</td>\n",
       "      <td>0.111374</td>\n",
       "      <td>1.232831</td>\n",
       "      <td>4.177296</td>\n",
       "      <td>0.963322</td>\n",
       "      <td>0.727232</td>\n",
       "      <td>...</td>\n",
       "      <td>0.151228</td>\n",
       "      <td>0.088965</td>\n",
       "      <td>0.017798</td>\n",
       "      <td>0.250000</td>\n",
       "      <td>0.201497</td>\n",
       "      <td>0.007812</td>\n",
       "      <td>0.562500</td>\n",
       "      <td>0.554688</td>\n",
       "      <td>0.247119</td>\n",
       "      <td>male</td>\n",
       "    </tr>\n",
       "    <tr>\n",
       "      <th>4</th>\n",
       "      <td>0.135120</td>\n",
       "      <td>0.079146</td>\n",
       "      <td>0.124656</td>\n",
       "      <td>0.078720</td>\n",
       "      <td>0.206045</td>\n",
       "      <td>0.127325</td>\n",
       "      <td>1.101174</td>\n",
       "      <td>4.333713</td>\n",
       "      <td>0.971955</td>\n",
       "      <td>0.783568</td>\n",
       "      <td>...</td>\n",
       "      <td>0.135120</td>\n",
       "      <td>0.106398</td>\n",
       "      <td>0.016931</td>\n",
       "      <td>0.266667</td>\n",
       "      <td>0.712812</td>\n",
       "      <td>0.007812</td>\n",
       "      <td>5.484375</td>\n",
       "      <td>5.476562</td>\n",
       "      <td>0.208274</td>\n",
       "      <td>male</td>\n",
       "    </tr>\n",
       "  </tbody>\n",
       "</table>\n",
       "<p>5 rows × 21 columns</p>\n",
       "</div>"
      ],
      "text/plain": [
       "   meanfreq        sd    median       Q25       Q75       IQR       skew  \\\n",
       "0  0.059781  0.064241  0.032027  0.015071  0.090193  0.075122  12.863462   \n",
       "1  0.066009  0.067310  0.040229  0.019414  0.092666  0.073252  22.423285   \n",
       "2  0.077316  0.083829  0.036718  0.008701  0.131908  0.123207  30.757155   \n",
       "3  0.151228  0.072111  0.158011  0.096582  0.207955  0.111374   1.232831   \n",
       "4  0.135120  0.079146  0.124656  0.078720  0.206045  0.127325   1.101174   \n",
       "\n",
       "          kurt    sp.ent       sfm  ...  centroid   meanfun    minfun  \\\n",
       "0   274.402905  0.893369  0.491918  ...  0.059781  0.084279  0.015702   \n",
       "1   634.613855  0.892193  0.513724  ...  0.066009  0.107937  0.015826   \n",
       "2  1024.927705  0.846389  0.478905  ...  0.077316  0.098706  0.015656   \n",
       "3     4.177296  0.963322  0.727232  ...  0.151228  0.088965  0.017798   \n",
       "4     4.333713  0.971955  0.783568  ...  0.135120  0.106398  0.016931   \n",
       "\n",
       "     maxfun   meandom    mindom    maxdom   dfrange   modindx  label  \n",
       "0  0.275862  0.007812  0.007812  0.007812  0.000000  0.000000   male  \n",
       "1  0.250000  0.009014  0.007812  0.054688  0.046875  0.052632   male  \n",
       "2  0.271186  0.007990  0.007812  0.015625  0.007812  0.046512   male  \n",
       "3  0.250000  0.201497  0.007812  0.562500  0.554688  0.247119   male  \n",
       "4  0.266667  0.712812  0.007812  5.484375  5.476562  0.208274   male  \n",
       "\n",
       "[5 rows x 21 columns]"
      ]
     },
     "execution_count": 260,
     "metadata": {},
     "output_type": "execute_result"
    }
   ],
   "source": [
    "df.head()"
   ]
  },
  {
   "cell_type": "code",
   "execution_count": 261,
   "id": "72400cc8",
   "metadata": {},
   "outputs": [
    {
     "data": {
      "text/plain": [
       "(3168, 21)"
      ]
     },
     "execution_count": 261,
     "metadata": {},
     "output_type": "execute_result"
    }
   ],
   "source": [
    "df.shape"
   ]
  },
  {
   "cell_type": "code",
   "execution_count": 262,
   "id": "17dad668",
   "metadata": {},
   "outputs": [],
   "source": [
    "x = df.iloc[:, :-1]\n",
    "y = df.iloc[:,-1]"
   ]
  },
  {
   "cell_type": "code",
   "execution_count": 263,
   "id": "0f1437c0",
   "metadata": {},
   "outputs": [],
   "source": [
    "x_train,x_test,y_train,y_test = train_test_split(x,y,test_size = 0.3, random_state = 42)"
   ]
  },
  {
   "cell_type": "code",
   "execution_count": 19,
   "id": "e7fb4880",
   "metadata": {
    "scrolled": true
   },
   "outputs": [],
   "source": [
    "est_range = range(100, 200, 10)\n",
    "scores = []\n",
    "for est in est_range:\n",
    "    som = susi.SOMClassifier(n_rows = est,n_columns = est, random_state = 42, n_jobs = -1)\n",
    "    som.fit(x_train, y_train)\n",
    "    y_pred = som.predict(x_test)\n",
    "    scores.append(metrics.accuracy_score(y_test, y_pred))"
   ]
  },
  {
   "cell_type": "code",
   "execution_count": 20,
   "id": "3c446d68",
   "metadata": {},
   "outputs": [
    {
     "data": {
      "image/png": "[encoded data removed]",
      "text/plain": [
       "<Figure size 432x288 with 1 Axes>"
      ]
     },
     "metadata": {
      "needs_background": "light"
     },
     "output_type": "display_data"
    }
   ],
   "source": [
    "plt.plot(est_range, scores)\n",
    "plt.xlabel('Value of estimator count for bagging')\n",
    "plt.ylabel('Testing Accuracy')\n",
    "plt.show()"
   ]
  },
  {
   "cell_type": "code",
   "execution_count": 21,
   "id": "a9cd9a4a",
   "metadata": {},
   "outputs": [],
   "source": [
    "est_range = range(200, 250, 10)\n",
    "scores = []\n",
    "for est in est_range:\n",
    "    som = susi.SOMClassifier(n_rows = est,n_columns = est, random_state = 42, n_jobs = -1)\n",
    "    som.fit(x_train, y_train)\n",
    "    y_pred = som.predict(x_test)\n",
    "    scores.append(metrics.accuracy_score(y_test, y_pred))"
   ]
  },
  {
   "cell_type": "code",
   "execution_count": 22,
   "id": "1b03b7dc",
   "metadata": {},
   "outputs": [
    {
     "data": {
      "image/png": "[encoded data removed]",
      "text/plain": [
       "<Figure size 432x288 with 1 Axes>"
      ]
     },
     "metadata": {
      "needs_background": "light"
     },
     "output_type": "display_data"
    }
   ],
   "source": [
    "plt.plot(est_range, scores)\n",
    "plt.xlabel('Value of estimator count for bagging')\n",
    "plt.ylabel('Testing Accuracy')\n",
    "plt.show()"
   ]
  },
  {
   "cell_type": "markdown",
   "id": "d03918af",
   "metadata": {},
   "source": [
    "### 180 is the best parameter for rows and columns (do not restart and run all cells, the optimization cells took hours to run)"
   ]
  },
  {
   "cell_type": "markdown",
   "id": "332c0004",
   "metadata": {},
   "source": [
    "### Variant 1. No Feature Selection"
   ]
  },
  {
   "cell_type": "code",
   "execution_count": 264,
   "id": "244ddc00",
   "metadata": {},
   "outputs": [],
   "source": [
    "try:\n",
    "    som_one = pickle.load(open(\"som_model_one.pickle\", \"rb\"))\n",
    "except (OSError, IOError) as e:\n",
    "    som_one = susi.SOMClassifier(n_rows = 180,n_columns = 180, random_state = 42, n_jobs = -1)\n",
    "    som_one.fit(x_train, y_train)\n",
    "    with open('som_model_one.pickle','wb') as fe_data_file:\n",
    "        pickle.dump(som, fe_data_file)"
   ]
  },
  {
   "cell_type": "code",
   "execution_count": 265,
   "id": "c2bd4646",
   "metadata": {},
   "outputs": [
    {
     "name": "stdout",
     "output_type": "stream",
     "text": [
      "0.6088328075709779\n"
     ]
    }
   ],
   "source": [
    "with open('som_model_one.pickle','rb') as fe_data_file:\n",
    "     som_one = pickle.load(fe_data_file)\n",
    "        \n",
    "y_pred_one = som_one.predict(x_test)\n",
    "print(metrics.accuracy_score(y_test,y_pred_one))"
   ]
  },
  {
   "cell_type": "markdown",
   "id": "395f82ff",
   "metadata": {},
   "source": [
    "## Feature Selection"
   ]
  },
  {
   "cell_type": "code",
   "execution_count": 266,
   "id": "c5cb3e78",
   "metadata": {},
   "outputs": [],
   "source": [
    "def correlation(dataset, threshold):\n",
    "    col_corr = set()  # Set of all the names of correlated columns\n",
    "    corr_matrix = dataset.corr()\n",
    "    for i in range(len(corr_matrix.columns)):\n",
    "        for j in range(i):\n",
    "            if abs(corr_matrix.iloc[i, j]) > threshold: # we are interested in absolute coeff value\n",
    "                colname = corr_matrix.columns[i]  # getting the name of column\n",
    "                col_corr.add(colname)\n",
    "    return col_corr"
   ]
  },
  {
   "cell_type": "code",
   "execution_count": 267,
   "id": "4f0e4a5a",
   "metadata": {},
   "outputs": [
    {
     "name": "stdout",
     "output_type": "stream",
     "text": [
      "{'sp.ent', 'Q25', 'IQR', 'Q75', 'dfrange', 'sd', 'maxdom', 'median', 'sfm', 'kurt', 'centroid'}\n"
     ]
    },
    {
     "data": {
      "text/plain": [
       "11"
      ]
     },
     "execution_count": 267,
     "metadata": {},
     "output_type": "execute_result"
    }
   ],
   "source": [
    "correlated_features = correlation(x_train, 0.7)\n",
    "print(correlated_features)\n",
    "len(set(correlated_features))"
   ]
  },
  {
   "cell_type": "code",
   "execution_count": 268,
   "id": "53e77ffe",
   "metadata": {},
   "outputs": [],
   "source": [
    "x.drop(labels = correlated_features, axis = 1, inplace = True)"
   ]
  },
  {
   "cell_type": "code",
   "execution_count": 269,
   "id": "dca5ee21",
   "metadata": {},
   "outputs": [],
   "source": [
    "x_train,x_test,y_train,y_test = train_test_split(x,y,test_size = 0.3, random_state = 42)"
   ]
  },
  {
   "cell_type": "markdown",
   "id": "6052e9ea",
   "metadata": {},
   "source": [
    "### Variant 2. Feature Selection, less optimized hyperparameters"
   ]
  },
  {
   "cell_type": "code",
   "execution_count": 270,
   "id": "c95984e9",
   "metadata": {},
   "outputs": [],
   "source": [
    "try:\n",
    "    som_two = pickle.load(open(\"som_model_two.pickle\", \"rb\"))\n",
    "except (OSError, IOError) as e:\n",
    "    som_two = susi.SOMClassifier(n_rows = 180,n_columns = 180,random_state = 42, n_jobs = -1)\n",
    "    som_two.fit(x_train, y_train)\n",
    "    with open('som_model_two.pickle','wb') as fe_data_file:\n",
    "        pickle.dump(som_two, fe_data_file)\n",
    "        y_pred_two = som_two.predict(x_test)"
   ]
  },
  {
   "cell_type": "code",
   "execution_count": 271,
   "id": "e723b678",
   "metadata": {},
   "outputs": [
    {
     "name": "stdout",
     "output_type": "stream",
     "text": [
      "0.5709779179810726\n"
     ]
    }
   ],
   "source": [
    "print(metrics.accuracy_score(y_test,y_pred_two))"
   ]
  },
  {
   "cell_type": "markdown",
   "id": "f43e5c86",
   "metadata": {},
   "source": [
    "### Variant 3. No Feature Selection, more optimized hyperparameters"
   ]
  },
  {
   "cell_type": "code",
   "execution_count": 272,
   "id": "3f85e05f",
   "metadata": {},
   "outputs": [],
   "source": [
    "x = df.iloc[:, :-1]\n",
    "y = df.iloc[:,-1]"
   ]
  },
  {
   "cell_type": "code",
   "execution_count": 273,
   "id": "3bbe5681",
   "metadata": {},
   "outputs": [],
   "source": [
    "x_train,x_test,y_train,y_test = train_test_split(x,y,test_size = 0.3, random_state = 42)"
   ]
  },
  {
   "cell_type": "code",
   "execution_count": null,
   "id": "01441c23",
   "metadata": {},
   "outputs": [],
   "source": [
    "max_iter_range = range(10000, 30000, 5000)\n",
    "scores = []\n",
    "for est in max_iter_range:\n",
    "    som = susi.SOMClassifier(n_rows = 180,n_columns = 180,n_iter_supervised= est,random_state = 42, n_jobs = -1)\n",
    "    som.fit(x_train, y_train)\n",
    "    y_pred = som.predict(x_test)\n",
    "    scores.append(metrics.accuracy_score(y_test, y_pred))"
   ]
  },
  {
   "cell_type": "code",
   "execution_count": 85,
   "id": "6966cda6",
   "metadata": {
    "scrolled": true
   },
   "outputs": [
    {
     "data": {
      "image/png": "[encoded data removed]",
      "text/plain": [
       "<Figure size 432x288 with 1 Axes>"
      ]
     },
     "metadata": {
      "needs_background": "light"
     },
     "output_type": "display_data"
    }
   ],
   "source": [
    "plt.plot(max_iter_range, scores)\n",
    "plt.xlabel('Value of estimator count for n_iter_supervised')\n",
    "plt.ylabel('Testing Accuracy')\n",
    "plt.show()"
   ]
  },
  {
   "cell_type": "markdown",
   "id": "9a058d9c",
   "metadata": {},
   "source": [
    "### best iteration count is at 10000"
   ]
  },
  {
   "cell_type": "code",
   "execution_count": 275,
   "id": "45c91f41",
   "metadata": {},
   "outputs": [],
   "source": [
    "try:\n",
    "    som_three = pickle.load(open(\"som_model_three.pickle\", \"rb\"))\n",
    "except (OSError, IOError) as e:\n",
    "    som_three = susi.SOMClassifier(n_rows = 180,n_columns = 180,n_iter_supervised= 10000,random_state = 42, n_jobs = -1)\n",
    "    som_three.fit(x_train, y_train)\n",
    "    with open('som_model_three.pickle','wb') as fe_data_file:\n",
    "        pickle.dump(som_three, fe_data_file)\n",
    "        y_pred_three = som_three.predict(x_test)"
   ]
  },
  {
   "cell_type": "code",
   "execution_count": 276,
   "id": "0c758cb1",
   "metadata": {},
   "outputs": [
    {
     "name": "stdout",
     "output_type": "stream",
     "text": [
      "0.6046267087276551\n"
     ]
    }
   ],
   "source": [
    "print(metrics.accuracy_score(y_test,y_pred_three))"
   ]
  },
  {
   "cell_type": "markdown",
   "id": "40b4e618",
   "metadata": {},
   "source": [
    "### Variant 4. Feature Selection + More optimized hyperparameters"
   ]
  },
  {
   "cell_type": "code",
   "execution_count": 277,
   "id": "1e192bd4",
   "metadata": {},
   "outputs": [],
   "source": [
    "x.drop(labels = correlated_features, axis = 1, inplace = True)"
   ]
  },
  {
   "cell_type": "code",
   "execution_count": 278,
   "id": "672abe3f",
   "metadata": {},
   "outputs": [],
   "source": [
    "try:\n",
    "    som_four = pickle.load(open(\"som_model_four.pickle\", \"rb\"))\n",
    "except (OSError, IOError) as e:\n",
    "    som_four = susi.SOMClassifier(n_rows = 180,n_columns = 180,n_iter_supervised= 10000,random_state = 42, n_jobs = -1)\n",
    "    som_four.fit(x_train, y_train)\n",
    "    with open('som_model_four.pickle','wb') as fe_data_file:\n",
    "        pickle.dump(som_four, fe_data_file)\n",
    "        y_pred_four = som_four.predict(x_test)"
   ]
  },
  {
   "cell_type": "code",
   "execution_count": 279,
   "id": "5e5bb6c8",
   "metadata": {},
   "outputs": [
    {
     "name": "stdout",
     "output_type": "stream",
     "text": [
      "0.6046267087276551\n"
     ]
    }
   ],
   "source": [
    "print(metrics.accuracy_score(y_test,y_pred_four))"
   ]
  },
  {
   "cell_type": "markdown",
   "id": "676a0c3a",
   "metadata": {},
   "source": [
    "### Variant 5: Standard Scaling without Feature Selection (with most optimized hyperparameters)"
   ]
  },
  {
   "cell_type": "code",
   "execution_count": 280,
   "id": "4f089154",
   "metadata": {},
   "outputs": [],
   "source": [
    "x = df.iloc[:, :-1]\n",
    "y = df.iloc[:,-1]"
   ]
  },
  {
   "cell_type": "code",
   "execution_count": 281,
   "id": "57186a85",
   "metadata": {},
   "outputs": [],
   "source": [
    "scaler = StandardScaler()\n",
    "scaler.fit(x)\n",
    "x_std_pre = scaler.transform(x)"
   ]
  },
  {
   "cell_type": "code",
   "execution_count": 282,
   "id": "25db8163",
   "metadata": {},
   "outputs": [],
   "source": [
    "x_train,x_test,y_train,y_test = train_test_split(x_std_pre,y,test_size = 0.3, random_state = 42)"
   ]
  },
  {
   "cell_type": "code",
   "execution_count": 283,
   "id": "70f48550",
   "metadata": {},
   "outputs": [],
   "source": [
    "try:\n",
    "    som_five = pickle.load(open(\"som_model_five.pickle\", \"rb\"))\n",
    "except (OSError, IOError) as e:\n",
    "    som_five = susi.SOMClassifier(n_rows = 180,n_columns = 180,n_iter_supervised= 10000,random_state = 42, n_jobs = -1)\n",
    "    som_five.fit(x_train, y_train)\n",
    "    with open('som_model_five.pickle','wb') as fe_data_file:\n",
    "        pickle.dump(som_five, fe_data_file)\n",
    "        y_pred_five = som_five.predict(x_test)"
   ]
  },
  {
   "cell_type": "code",
   "execution_count": 284,
   "id": "a5299740",
   "metadata": {},
   "outputs": [
    {
     "name": "stdout",
     "output_type": "stream",
     "text": [
      "0.6046267087276551\n"
     ]
    }
   ],
   "source": [
    "print(metrics.accuracy_score(y_test,y_pred_five))"
   ]
  },
  {
   "cell_type": "markdown",
   "id": "90dd7fc5",
   "metadata": {},
   "source": [
    "### Variant 6: Standard Scaling with Feature Selection (with most optimized hyperparameters)"
   ]
  },
  {
   "cell_type": "code",
   "execution_count": 285,
   "id": "ed9a335d",
   "metadata": {},
   "outputs": [],
   "source": [
    "x.drop(labels = correlated_features, axis = 1, inplace = True)"
   ]
  },
  {
   "cell_type": "code",
   "execution_count": 286,
   "id": "115ce13d",
   "metadata": {},
   "outputs": [],
   "source": [
    "scaler = StandardScaler()\n",
    "scaler.fit(x)\n",
    "x_std_post = scaler.transform(x)"
   ]
  },
  {
   "cell_type": "code",
   "execution_count": 287,
   "id": "9d3768a1",
   "metadata": {},
   "outputs": [],
   "source": [
    "x_train,x_test,y_train,y_test = train_test_split(x_std_post,y,test_size = 0.3, random_state = 42)"
   ]
  },
  {
   "cell_type": "code",
   "execution_count": 288,
   "id": "3320f0aa",
   "metadata": {},
   "outputs": [],
   "source": [
    "try:\n",
    "    som_six = pickle.load(open(\"som_model_six.pickle\", \"rb\"))\n",
    "except (OSError, IOError) as e:\n",
    "    som_six = susi.SOMClassifier(n_rows = 180,n_columns = 180,n_iter_supervised= 10000,random_state = 42, n_jobs = -1)\n",
    "    som_six.fit(x_train, y_train)\n",
    "    with open('som_model_six.pickle','wb') as fe_data_file:\n",
    "        pickle.dump(som_six, fe_data_file)\n",
    "        y_pred_six = som_six.predict(x_test)"
   ]
  },
  {
   "cell_type": "code",
   "execution_count": 289,
   "id": "91bcfee7",
   "metadata": {},
   "outputs": [
    {
     "name": "stdout",
     "output_type": "stream",
     "text": [
      "0.8538380651945321\n"
     ]
    }
   ],
   "source": [
    "print(metrics.accuracy_score(y_test,y_pred_six))"
   ]
  },
  {
   "cell_type": "code",
   "execution_count": 290,
   "id": "454873ff",
   "metadata": {},
   "outputs": [
    {
     "name": "stdout",
     "output_type": "stream",
     "text": [
      "              precision    recall  f1-score   support\n",
      "\n",
      "      female       0.84      0.85      0.85       452\n",
      "        male       0.86      0.86      0.86       499\n",
      "\n",
      "    accuracy                           0.85       951\n",
      "   macro avg       0.85      0.85      0.85       951\n",
      "weighted avg       0.85      0.85      0.85       951\n",
      "\n"
     ]
    }
   ],
   "source": [
    "print(metrics.classification_report(y_test,y_pred_six))"
   ]
  },
  {
   "cell_type": "code",
   "execution_count": 291,
   "id": "7622e335",
   "metadata": {},
   "outputs": [
    {
     "data": {
      "image/png": "[encoded data removed]",
      "text/plain": [
       "<Figure size 432x288 with 1 Axes>"
      ]
     },
     "metadata": {
      "needs_background": "light"
     },
     "output_type": "display_data"
    }
   ],
   "source": [
    "from sklearn.metrics import RocCurveDisplay\n",
    "RocCurveDisplay.from_estimator(som_six, x_test, y_test)\n",
    "plt.show()"
   ]
  },
  {
   "cell_type": "code",
   "execution_count": 292,
   "id": "82f73238",
   "metadata": {},
   "outputs": [
    {
     "data": {
      "text/plain": [
       "<sklearn.metrics._plot.confusion_matrix.ConfusionMatrixDisplay at 0x22e751fedc0>"
      ]
     },
     "execution_count": 292,
     "metadata": {},
     "output_type": "execute_result"
    },
    {
     "data": {
      "image/png": "[encoded data removed]",
      "text/plain": [
       "<Figure size 432x288 with 2 Axes>"
      ]
     },
     "metadata": {
      "needs_background": "light"
     },
     "output_type": "display_data"
    }
   ],
   "source": [
    "from sklearn.metrics import ConfusionMatrixDisplay\n",
    "\n",
    "ConfusionMatrixDisplay.from_estimator(som_six, x_test, y_test)"
   ]
  },
  {
   "cell_type": "code",
   "execution_count": 169,
   "id": "86f2f55b",
   "metadata": {},
   "outputs": [
    {
     "data": {
      "image/png": "[encoded data removed]",
      "text/plain": [
       "<Figure size 432x288 with 1 Axes>"
      ]
     },
     "metadata": {
      "needs_background": "light"
     },
     "output_type": "display_data"
    }
   ],
   "source": [
    "from sklearn.model_selection import learning_curve\n",
    "\n",
    "train_sizes_model, train_scores_model, valid_scores_model, *_ =learning_curve(som_six, x_std_post, y,cv=3,\n",
    "                    scoring='accuracy',n_jobs=-1)\n",
    "fig=plt.figure()\n",
    "ax=fig.add_axes([0,0,1,1])\n",
    "ax.scatter(x=train_sizes_model,y= train_scores_model.mean(axis=1), color='b')\n",
    "ax.scatter(x=train_sizes_model,y=valid_scores_model.mean(axis=1), color='r')\n",
    "ax.plot(train_sizes_model,train_scores_model.mean(axis=1), color='b')\n",
    "ax.plot(train_sizes_model,valid_scores_model.mean(axis=1), color='r')\n",
    "ax.set_xlabel('Training in blue, Testing in red')\n",
    "ax.set_ylabel('Accuracy')\n",
    "ax.set_title('Learning Curve')\n",
    "plt.show()"
   ]
  },
  {
   "cell_type": "code",
   "execution_count": 302,
   "id": "47803199",
   "metadata": {},
   "outputs": [],
   "source": [
    "y_train = y_train.replace(to_replace=['male', 'female'], value=[0, 1])"
   ]
  },
  {
   "cell_type": "code",
   "execution_count": 303,
   "id": "37420930",
   "metadata": {},
   "outputs": [],
   "source": [
    "y_test = y_test.replace(to_replace=['male', 'female'], value=[0, 1])"
   ]
  },
  {
   "cell_type": "code",
   "execution_count": 296,
   "id": "ccbb7f6f",
   "metadata": {},
   "outputs": [],
   "source": [
    "def turnto(y_train, y_test):\n",
    "    y_train=y_train.to_numpy()\n",
    "    y_test=y_test.to_numpy()\n",
    "    return y_train, y_test"
   ]
  },
  {
   "cell_type": "markdown",
   "id": "b4488f1f",
   "metadata": {},
   "source": [
    "#### Variant 1 (SOM + 2 Optimized Hyperparameters): 60.8%\n",
    "\n",
    "#### Variant 2 (SOM + FS + 2 Optimized Hyperparameters): 57.09%\n",
    "\n",
    "#### Variant 3 (SOM + 3 Optimized Hyperparameters): 60.4%\n",
    "\n",
    "#### Variant 4 (SOM + FS + 3 Optimized Hyperparameters): 60.4%\n",
    "\n",
    "#### Variant 5 (SOM + Std. Scaling + 3 Optimized Hyperparameters): 60.4%\n",
    "\n",
    "#### Variant 6 (SOM + Std. Scaling + FS + 3 Optimized Hyperparameters): 85.3%"
   ]
  },
  {
   "cell_type": "code",
   "execution_count": 297,
   "id": "fe9f3a2c",
   "metadata": {},
   "outputs": [
    {
     "name": "stdout",
     "output_type": "stream",
     "text": [
      "<class 'numpy.ndarray'>\n",
      "<class 'numpy.ndarray'>\n",
      "MSE: 0.162\n",
      "Bias: 0.078\n",
      "Variance: 0.084\n"
     ]
    }
   ],
   "source": [
    "##### from mlxtend.evaluate import bias_variance_decomp\n",
    "#turning pandas df and pandas series into numpy arrays\n",
    "y_train_new,y_test_new = turnto(y_train,y_test)\n",
    "print(type(y_train_new))\n",
    "print(type(y_test_new))\n",
    "#bias/variance\n",
    "mse, bias, var = bias_variance_decomp\\\n",
    "(som_six, x_train, y_train_new, x_test, y_test_new, loss='mse', num_rounds=5, random_seed=42)\n",
    "\n",
    "#values\n",
    "\n",
    "print('MSE: %.3f' % mse)\n",
    "print('Bias: %.3f' % bias)\n",
    "print('Variance: %.3f' % var)"
   ]
  }
 ],
 "metadata": {
  "kernelspec": {
   "display_name": "Python 3 (ipykernel)",
   "language": "python",
   "name": "python3"
  },
  "language_info": {
   "codemirror_mode": {
    "name": "ipython",
    "version": 3
   },
   "file_extension": ".py",
   "mimetype": "text/x-python",
   "name": "python",
   "nbconvert_exporter": "python",
   "pygments_lexer": "ipython3",
   "version": "3.9.7"
  }
 },
 "nbformat": 4,
 "nbformat_minor": 5
}
